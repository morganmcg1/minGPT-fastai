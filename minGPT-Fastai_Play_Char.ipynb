{
 "cells": [
  {
   "cell_type": "markdown",
   "metadata": {},
   "source": [
    "# A Quick Demo of Andrej Karpathy's minGPT Play Char Demo \n",
    "\n",
    "**Our Goal**: Generate Shakesperean text\n",
    "- You can find the original Play Char demo in the minGPT repo here: https://github.com/karpathy/minGPT\n",
    "- This notebook is partially based on the fastai Transformers tutorial: http://docs.fast.ai/tutorial.transformers"
   ]
  },
  {
   "cell_type": "code",
   "execution_count": 1,
   "metadata": {},
   "outputs": [],
   "source": [
    "# For Colab\n",
    "# !pip install fastai --upgrade\n",
    "# !git clone https://github.com/karpathy/minGPT\n",
    "# !pip install snakeviz"
   ]
  },
  {
   "cell_type": "code",
   "execution_count": 2,
   "metadata": {},
   "outputs": [],
   "source": [
    "from fastai.text.all import *\n",
    "from minGPT.mingpt.model import GPT, GPTConfig, GPT1Config"
   ]
  },
  {
   "cell_type": "markdown",
   "metadata": {},
   "source": [
    "Download the raw text file"
   ]
  },
  {
   "cell_type": "code",
   "execution_count": 3,
   "metadata": {},
   "outputs": [],
   "source": [
    "#!wget https://raw.githubusercontent.com/karpathy/char-rnn/master/data/tinyshakespeare/input.txt"
   ]
  },
  {
   "cell_type": "markdown",
   "metadata": {},
   "source": [
    "Read it in"
   ]
  },
  {
   "cell_type": "code",
   "execution_count": 4,
   "metadata": {},
   "outputs": [
    {
     "data": {
      "text/plain": [
       "'First Citizen:\\nBefore we proceed any further, hear me speak.\\n\\nAll:\\nSpeak, speak.\\n\\nFirst Citizen:\\nYou'"
      ]
     },
     "execution_count": 4,
     "metadata": {},
     "output_type": "execute_result"
    }
   ],
   "source": [
    "raw_text = open('input.txt', 'r').read()\n",
    "raw_text[:100]"
   ]
  },
  {
   "cell_type": "markdown",
   "metadata": {},
   "source": [
    "## Data Loaders\n",
    "\n",
    "We re-implement Karpathy's `CharDataset` as a fastai Transform, which will then be passed to a dataloader"
   ]
  },
  {
   "cell_type": "code",
   "execution_count": 5,
   "metadata": {},
   "outputs": [],
   "source": [
    "class CharTransform(DisplayedTransform):\n",
    "    def __init__(self, data, block_size):\n",
    "        self.cat = Categorize()\n",
    "        self.block_size = block_size + 1\n",
    "        self.data = data\n",
    "        \n",
    "    def setups(self, items=None):\n",
    "        self.data_len = len(self.data)\n",
    "        self.cat.setup(L(*self.data))\n",
    "        self.itos = self.cat.vocab\n",
    "        self.stoi = self.itos.items.val2idx()\n",
    "        print(f'data has {self.data_len} characters, {len(self.itos)} unique.')\n",
    "        self.n_sequences = math.ceil(self.data_len / (self.block_size))\n",
    "        self.idxs = L(np.random.randint(0, self.data_len - (self.block_size), self.n_sequences).tolist())\n",
    "\n",
    "    def encodes(self, o):\n",
    "        chunk = self.data[self.idxs[o]:self.idxs[o]+self.block_size]\n",
    "        return tensor([self.stoi[s] for s in chunk])\n",
    "\n",
    "    def decodes(self, o): return TitledStr(''.join([self.itos[s.item()] for s in o]))"
   ]
  },
  {
   "cell_type": "markdown",
   "metadata": {},
   "source": [
    "We define out block_size and n_samples (which is the number of batches in a single epoch)\n",
    "\n",
    "**Note**:\n",
    "- Note `block_size` in Karpathy's code is equivalent to `Sequence Length` in fastai\n",
    "- We do not specify a validation set here as Karpathy does not in their notebook. Therefore we set `split_idx=0` in `TfmdLists`"
   ]
  },
  {
   "cell_type": "code",
   "execution_count": 6,
   "metadata": {},
   "outputs": [
    {
     "data": {
      "text/plain": [
       "8647"
      ]
     },
     "execution_count": 6,
     "metadata": {},
     "output_type": "execute_result"
    }
   ],
   "source": [
    "block_size=128\n",
    "n_sequences = math.ceil(len(raw_text) / (block_size+1)); n_sequences"
   ]
  },
  {
   "cell_type": "markdown",
   "metadata": {},
   "source": [
    "And we test our transform quickly"
   ]
  },
  {
   "cell_type": "code",
   "execution_count": 7,
   "metadata": {},
   "outputs": [
    {
     "name": "stdout",
     "output_type": "stream",
     "text": [
      "data has 1115394 characters, 65 unique.\n"
     ]
    }
   ],
   "source": [
    "t = CharTransform(data=raw_text, block_size=block_size)\n",
    "t.setups()"
   ]
  },
  {
   "cell_type": "markdown",
   "metadata": {},
   "source": [
    "Now we add our Transform to a `Dataset`, read more about fastai's `Dataset` [here](https://docs.fast.ai/data.core#Datasets)"
   ]
  },
  {
   "cell_type": "code",
   "execution_count": 8,
   "metadata": {
    "scrolled": true
   },
   "outputs": [
    {
     "name": "stdout",
     "output_type": "stream",
     "text": [
      "data has 1115394 characters, 65 unique.\n"
     ]
    }
   ],
   "source": [
    "dset = Datasets(L(range(n_sequences)), tfms=[CharTransform(raw_text, block_size)], dl_type=LMDataLoader)"
   ]
  },
  {
   "cell_type": "markdown",
   "metadata": {},
   "source": [
    "We will use an `LMDataLoader` since we have a language modeling problem, meaning it is designed to be used when trying to predict the next character/token.\n",
    "\n",
    "Lets have a look at the first item in our dataset"
   ]
  },
  {
   "cell_type": "code",
   "execution_count": 9,
   "metadata": {},
   "outputs": [
    {
     "data": {
      "text/plain": [
       "(tensor([53, 58, 46,  1, 46, 43, 11,  0, 13, 52, 42,  6,  1, 54, 56, 43, 58, 58,\n",
       "         63,  1, 44, 53, 53, 50,  6,  1, 47, 58,  1, 57, 58, 47, 52, 58, 43, 42,\n",
       "          1, 39, 52, 42,  1, 57, 39, 47, 42,  1,  5, 13, 63,  8,  5,  0,  0, 24,\n",
       "         13, 16, 37,  1, 15, 13, 28, 33, 24, 17, 32, 10,  0, 17, 52, 53, 59, 45,\n",
       "         46,  1, 53, 44,  1, 58, 46, 47, 57, 11,  1, 21,  1, 54, 56, 39, 63,  1,\n",
       "         58, 46, 43, 43,  6,  1, 46, 53, 50, 42,  1, 58, 46, 63,  1, 54, 43, 39,\n",
       "         41, 43,  8,  0,  0, 26, 59, 56, 57, 43, 10,  0, 37, 43, 57,  6,  1, 51,\n",
       "         39, 42, 39]),)"
      ]
     },
     "execution_count": 9,
     "metadata": {},
     "output_type": "execute_result"
    }
   ],
   "source": [
    "dset[0]"
   ]
  },
  {
   "cell_type": "markdown",
   "metadata": {},
   "source": [
    "And what the original text for this first item was:"
   ]
  },
  {
   "cell_type": "code",
   "execution_count": 10,
   "metadata": {},
   "outputs": [
    {
     "name": "stdout",
     "output_type": "stream",
     "text": [
      "oth he;\n",
      "And, pretty fool, it stinted and said 'Ay.'\n",
      "\n",
      "LADY CAPULET:\n",
      "Enough of this; I pray thee, hold thy peace.\n",
      "\n",
      "Nurse:\n",
      "Yes, mada\n"
     ]
    }
   ],
   "source": [
    "show_at(dset.train, 0)"
   ]
  },
  {
   "cell_type": "markdown",
   "metadata": {},
   "source": [
    "The fastai library expects the data to be assembled in a `DataLoaders` object (something that has a training and validation dataloader). We can get one by using the `dataloaders` method. We just have to specify a batch size and a sequence length. \n",
    "\n",
    "To further optimize the `LMDataLoader` initialisation, we pass a list of item lengths. As each item is already `block_size + 1` digits long we don't need to re-calculate the actual length for each item."
   ]
  },
  {
   "cell_type": "code",
   "execution_count": 11,
   "metadata": {},
   "outputs": [],
   "source": [
    "bs = 256\n",
    "lens = [block_size+1 for i in range(len(dset.train))]\n",
    "dls = dset.dataloaders(bs=bs, seq_len=block_size, lens=lens)"
   ]
  },
  {
   "cell_type": "markdown",
   "metadata": {},
   "source": [
    "We can inspect a single batch by uncommenting the below line:"
   ]
  },
  {
   "cell_type": "code",
   "execution_count": 12,
   "metadata": {},
   "outputs": [],
   "source": [
    "#o = dls.one_batch(); len(o), o[0].size(), o[1].size(), o"
   ]
  },
  {
   "cell_type": "markdown",
   "metadata": {},
   "source": [
    "And we can also inspect what a single batch looks like"
   ]
  },
  {
   "cell_type": "code",
   "execution_count": 13,
   "metadata": {
    "scrolled": true
   },
   "outputs": [
    {
     "data": {
      "text/html": [
       "<table border=\"1\" class=\"dataframe\">\n",
       "  <thead>\n",
       "    <tr style=\"text-align: right;\">\n",
       "      <th></th>\n",
       "      <th>text</th>\n",
       "      <th>text_</th>\n",
       "    </tr>\n",
       "  </thead>\n",
       "  <tbody>\n",
       "    <tr>\n",
       "      <th>0</th>\n",
       "      <td>to't.\\n\\nISABELLA:\\nThis gentleman told somewhat of my tale,--\\n\\nLUCIO:\\nRight.\\n\\nDUKE VINCENTIO:\\nIt may be right; but you are i' the</td>\n",
       "      <td>o't.\\n\\nISABELLA:\\nThis gentleman told somewhat of my tale,--\\n\\nLUCIO:\\nRight.\\n\\nDUKE VINCENTIO:\\nIt may be right; but you are i' the w</td>\n",
       "    </tr>\n",
       "    <tr>\n",
       "      <th>1</th>\n",
       "      <td>ou meddle with my master?\\n\\nCOmost likely 'tis for you:\\nConsider of it.'\\n\\nFirst Senator:\\nOur army's in the field\\nWe never yet mad</td>\n",
       "      <td>u meddle with my master?\\n\\nCOmost likely 'tis for you:\\nConsider of it.'\\n\\nFirst Senator:\\nOur army's in the field\\nWe never yet made</td>\n",
       "    </tr>\n",
       "  </tbody>\n",
       "</table>"
      ],
      "text/plain": [
       "<IPython.core.display.HTML object>"
      ]
     },
     "metadata": {},
     "output_type": "display_data"
    }
   ],
   "source": [
    "dls.show_batch(max_n=2)"
   ]
  },
  {
   "cell_type": "markdown",
   "metadata": {},
   "source": [
    "## Callback to Grab First Output"
   ]
  },
  {
   "cell_type": "markdown",
   "metadata": {},
   "source": [
    "We only need the logits from the model, however Karpathy's GPT model actually also calculates and returns the loss in the forward pass, `(logits, loss)`.  So we need to write the event `after_pred` and replace `self.learn.pred` (which contains the predictions that will be passed to the loss function) by just its first element. "
   ]
  },
  {
   "cell_type": "code",
   "execution_count": 14,
   "metadata": {},
   "outputs": [],
   "source": [
    "class DropLoss(Callback):\n",
    "    def after_pred(self): self.learn.pred = self.pred[0]"
   ]
  },
  {
   "cell_type": "markdown",
   "metadata": {},
   "source": [
    "## GPT Model"
   ]
  },
  {
   "cell_type": "markdown",
   "metadata": {},
   "source": [
    "I had to use 6 layers instead of 8 as my 2080 GPU has 13GB of ram"
   ]
  },
  {
   "cell_type": "code",
   "execution_count": 15,
   "metadata": {},
   "outputs": [],
   "source": [
    "mconf = GPTConfig(vocab_size=len(dls.itos), block_size=block_size, n_layer=6, n_head=8, n_embd=512)\n",
    "model = GPT(mconf)"
   ]
  },
  {
   "cell_type": "markdown",
   "metadata": {},
   "source": [
    "## Learner"
   ]
  },
  {
   "cell_type": "markdown",
   "metadata": {},
   "source": [
    "We pass our dataloader and model to a `Learner` and adjust the Adam's hyperparameters to match Karpathy's. We'll use `to_native_fp16` to use [PyTorch's automatic mixed precision](https://pytorch.org/docs/stable/notes/amp_examples.html)"
   ]
  },
  {
   "cell_type": "code",
   "execution_count": 16,
   "metadata": {},
   "outputs": [],
   "source": [
    "learn = Learner(dls, model, loss_func=CrossEntropyLossFlat(), \n",
    "                opt_func=partial(Adam, sqr_mom=0.95, wd=0.1), cbs=[DropLoss]).to_native_fp16()"
   ]
  },
  {
   "cell_type": "markdown",
   "metadata": {},
   "source": [
    "Start a training loop\n",
    "\n",
    "*(Scroll past learner output to see an example of the output text the model can generate)*"
   ]
  },
  {
   "cell_type": "code",
   "execution_count": 17,
   "metadata": {},
   "outputs": [
    {
     "data": {
      "text/html": [],
      "text/plain": [
       "<IPython.core.display.HTML object>"
      ]
     },
     "metadata": {},
     "output_type": "display_data"
    },
    {
     "name": "stderr",
     "output_type": "stream",
     "text": [
      "/home/morgan/anaconda3/envs/fastai2_me/lib/python3.7/site-packages/fastprogress/fastprogress.py:74: UserWarning: Your generator is empty.\n",
      "  warn(\"Your generator is empty.\")\n"
     ]
    },
    {
     "data": {
      "text/plain": [
       "SuggestedLRs(lr_min=0.017378008365631102, lr_steep=0.14454397559165955)"
      ]
     },
     "execution_count": 17,
     "metadata": {},
     "output_type": "execute_result"
    },
    {
     "data": {
      "image/png": "[encoded data removed]",
      "text/plain": [
       "<Figure size 432x288 with 1 Axes>"
      ]
     },
     "metadata": {
      "needs_background": "light"
     },
     "output_type": "display_data"
    }
   ],
   "source": [
    "learn.lr_find()"
   ]
  },
  {
   "cell_type": "code",
   "execution_count": 18,
   "metadata": {
    "scrolled": true
   },
   "outputs": [
    {
     "data": {
      "text/html": [
       "<table border=\"1\" class=\"dataframe\">\n",
       "  <thead>\n",
       "    <tr style=\"text-align: left;\">\n",
       "      <th>epoch</th>\n",
       "      <th>train_loss</th>\n",
       "      <th>valid_loss</th>\n",
       "      <th>time</th>\n",
       "    </tr>\n",
       "  </thead>\n",
       "  <tbody>\n",
       "    <tr>\n",
       "      <td>0</td>\n",
       "      <td>3.317739</td>\n",
       "      <td>None</td>\n",
       "      <td>00:11</td>\n",
       "    </tr>\n",
       "    <tr>\n",
       "      <td>1</td>\n",
       "      <td>3.033413</td>\n",
       "      <td>None</td>\n",
       "      <td>00:11</td>\n",
       "    </tr>\n",
       "    <tr>\n",
       "      <td>2</td>\n",
       "      <td>2.807518</td>\n",
       "      <td>None</td>\n",
       "      <td>00:11</td>\n",
       "    </tr>\n",
       "    <tr>\n",
       "      <td>3</td>\n",
       "      <td>2.665807</td>\n",
       "      <td>None</td>\n",
       "      <td>00:11</td>\n",
       "    </tr>\n",
       "    <tr>\n",
       "      <td>4</td>\n",
       "      <td>2.572921</td>\n",
       "      <td>None</td>\n",
       "      <td>00:11</td>\n",
       "    </tr>\n",
       "    <tr>\n",
       "      <td>5</td>\n",
       "      <td>2.509148</td>\n",
       "      <td>None</td>\n",
       "      <td>00:11</td>\n",
       "    </tr>\n",
       "    <tr>\n",
       "      <td>6</td>\n",
       "      <td>2.463208</td>\n",
       "      <td>None</td>\n",
       "      <td>00:11</td>\n",
       "    </tr>\n",
       "    <tr>\n",
       "      <td>7</td>\n",
       "      <td>2.428268</td>\n",
       "      <td>None</td>\n",
       "      <td>00:11</td>\n",
       "    </tr>\n",
       "    <tr>\n",
       "      <td>8</td>\n",
       "      <td>2.394268</td>\n",
       "      <td>None</td>\n",
       "      <td>00:11</td>\n",
       "    </tr>\n",
       "    <tr>\n",
       "      <td>9</td>\n",
       "      <td>2.353075</td>\n",
       "      <td>None</td>\n",
       "      <td>00:11</td>\n",
       "    </tr>\n",
       "    <tr>\n",
       "      <td>10</td>\n",
       "      <td>2.300225</td>\n",
       "      <td>None</td>\n",
       "      <td>00:11</td>\n",
       "    </tr>\n",
       "    <tr>\n",
       "      <td>11</td>\n",
       "      <td>2.243087</td>\n",
       "      <td>None</td>\n",
       "      <td>00:11</td>\n",
       "    </tr>\n",
       "    <tr>\n",
       "      <td>12</td>\n",
       "      <td>2.176459</td>\n",
       "      <td>None</td>\n",
       "      <td>00:11</td>\n",
       "    </tr>\n",
       "    <tr>\n",
       "      <td>13</td>\n",
       "      <td>2.103145</td>\n",
       "      <td>None</td>\n",
       "      <td>00:11</td>\n",
       "    </tr>\n",
       "    <tr>\n",
       "      <td>14</td>\n",
       "      <td>2.034520</td>\n",
       "      <td>None</td>\n",
       "      <td>00:11</td>\n",
       "    </tr>\n",
       "    <tr>\n",
       "      <td>15</td>\n",
       "      <td>1.967749</td>\n",
       "      <td>None</td>\n",
       "      <td>00:11</td>\n",
       "    </tr>\n",
       "    <tr>\n",
       "      <td>16</td>\n",
       "      <td>1.909871</td>\n",
       "      <td>None</td>\n",
       "      <td>00:11</td>\n",
       "    </tr>\n",
       "    <tr>\n",
       "      <td>17</td>\n",
       "      <td>1.858214</td>\n",
       "      <td>None</td>\n",
       "      <td>00:11</td>\n",
       "    </tr>\n",
       "    <tr>\n",
       "      <td>18</td>\n",
       "      <td>1.808828</td>\n",
       "      <td>None</td>\n",
       "      <td>00:11</td>\n",
       "    </tr>\n",
       "    <tr>\n",
       "      <td>19</td>\n",
       "      <td>1.766990</td>\n",
       "      <td>None</td>\n",
       "      <td>00:11</td>\n",
       "    </tr>\n",
       "    <tr>\n",
       "      <td>20</td>\n",
       "      <td>1.726754</td>\n",
       "      <td>None</td>\n",
       "      <td>00:11</td>\n",
       "    </tr>\n",
       "    <tr>\n",
       "      <td>21</td>\n",
       "      <td>1.692783</td>\n",
       "      <td>None</td>\n",
       "      <td>00:11</td>\n",
       "    </tr>\n",
       "    <tr>\n",
       "      <td>22</td>\n",
       "      <td>1.657690</td>\n",
       "      <td>None</td>\n",
       "      <td>00:10</td>\n",
       "    </tr>\n",
       "    <tr>\n",
       "      <td>23</td>\n",
       "      <td>1.624187</td>\n",
       "      <td>None</td>\n",
       "      <td>00:10</td>\n",
       "    </tr>\n",
       "    <tr>\n",
       "      <td>24</td>\n",
       "      <td>1.594954</td>\n",
       "      <td>None</td>\n",
       "      <td>00:10</td>\n",
       "    </tr>\n",
       "    <tr>\n",
       "      <td>25</td>\n",
       "      <td>1.566474</td>\n",
       "      <td>None</td>\n",
       "      <td>00:10</td>\n",
       "    </tr>\n",
       "    <tr>\n",
       "      <td>26</td>\n",
       "      <td>1.541964</td>\n",
       "      <td>None</td>\n",
       "      <td>00:10</td>\n",
       "    </tr>\n",
       "    <tr>\n",
       "      <td>27</td>\n",
       "      <td>1.514784</td>\n",
       "      <td>None</td>\n",
       "      <td>00:10</td>\n",
       "    </tr>\n",
       "    <tr>\n",
       "      <td>28</td>\n",
       "      <td>1.492658</td>\n",
       "      <td>None</td>\n",
       "      <td>00:10</td>\n",
       "    </tr>\n",
       "    <tr>\n",
       "      <td>29</td>\n",
       "      <td>1.470435</td>\n",
       "      <td>None</td>\n",
       "      <td>00:10</td>\n",
       "    </tr>\n",
       "    <tr>\n",
       "      <td>30</td>\n",
       "      <td>1.450287</td>\n",
       "      <td>None</td>\n",
       "      <td>00:10</td>\n",
       "    </tr>\n",
       "    <tr>\n",
       "      <td>31</td>\n",
       "      <td>1.429739</td>\n",
       "      <td>None</td>\n",
       "      <td>00:10</td>\n",
       "    </tr>\n",
       "    <tr>\n",
       "      <td>32</td>\n",
       "      <td>1.409604</td>\n",
       "      <td>None</td>\n",
       "      <td>00:10</td>\n",
       "    </tr>\n",
       "    <tr>\n",
       "      <td>33</td>\n",
       "      <td>1.390563</td>\n",
       "      <td>None</td>\n",
       "      <td>00:10</td>\n",
       "    </tr>\n",
       "    <tr>\n",
       "      <td>34</td>\n",
       "      <td>1.372044</td>\n",
       "      <td>None</td>\n",
       "      <td>00:10</td>\n",
       "    </tr>\n",
       "    <tr>\n",
       "      <td>35</td>\n",
       "      <td>1.352105</td>\n",
       "      <td>None</td>\n",
       "      <td>00:10</td>\n",
       "    </tr>\n",
       "    <tr>\n",
       "      <td>36</td>\n",
       "      <td>1.333806</td>\n",
       "      <td>None</td>\n",
       "      <td>00:10</td>\n",
       "    </tr>\n",
       "    <tr>\n",
       "      <td>37</td>\n",
       "      <td>1.314617</td>\n",
       "      <td>None</td>\n",
       "      <td>00:10</td>\n",
       "    </tr>\n",
       "    <tr>\n",
       "      <td>38</td>\n",
       "      <td>1.295365</td>\n",
       "      <td>None</td>\n",
       "      <td>00:10</td>\n",
       "    </tr>\n",
       "    <tr>\n",
       "      <td>39</td>\n",
       "      <td>1.275487</td>\n",
       "      <td>None</td>\n",
       "      <td>00:10</td>\n",
       "    </tr>\n",
       "    <tr>\n",
       "      <td>40</td>\n",
       "      <td>1.256758</td>\n",
       "      <td>None</td>\n",
       "      <td>00:10</td>\n",
       "    </tr>\n",
       "    <tr>\n",
       "      <td>41</td>\n",
       "      <td>1.236971</td>\n",
       "      <td>None</td>\n",
       "      <td>00:10</td>\n",
       "    </tr>\n",
       "    <tr>\n",
       "      <td>42</td>\n",
       "      <td>1.216748</td>\n",
       "      <td>None</td>\n",
       "      <td>00:10</td>\n",
       "    </tr>\n",
       "    <tr>\n",
       "      <td>43</td>\n",
       "      <td>1.194249</td>\n",
       "      <td>None</td>\n",
       "      <td>00:10</td>\n",
       "    </tr>\n",
       "    <tr>\n",
       "      <td>44</td>\n",
       "      <td>1.172974</td>\n",
       "      <td>None</td>\n",
       "      <td>00:10</td>\n",
       "    </tr>\n",
       "    <tr>\n",
       "      <td>45</td>\n",
       "      <td>1.150926</td>\n",
       "      <td>None</td>\n",
       "      <td>00:10</td>\n",
       "    </tr>\n",
       "    <tr>\n",
       "      <td>46</td>\n",
       "      <td>1.130048</td>\n",
       "      <td>None</td>\n",
       "      <td>00:10</td>\n",
       "    </tr>\n",
       "    <tr>\n",
       "      <td>47</td>\n",
       "      <td>1.107042</td>\n",
       "      <td>None</td>\n",
       "      <td>00:10</td>\n",
       "    </tr>\n",
       "    <tr>\n",
       "      <td>48</td>\n",
       "      <td>1.084572</td>\n",
       "      <td>None</td>\n",
       "      <td>00:10</td>\n",
       "    </tr>\n",
       "    <tr>\n",
       "      <td>49</td>\n",
       "      <td>1.062451</td>\n",
       "      <td>None</td>\n",
       "      <td>00:10</td>\n",
       "    </tr>\n",
       "    <tr>\n",
       "      <td>50</td>\n",
       "      <td>1.041875</td>\n",
       "      <td>None</td>\n",
       "      <td>00:10</td>\n",
       "    </tr>\n",
       "    <tr>\n",
       "      <td>51</td>\n",
       "      <td>1.020664</td>\n",
       "      <td>None</td>\n",
       "      <td>00:10</td>\n",
       "    </tr>\n",
       "    <tr>\n",
       "      <td>52</td>\n",
       "      <td>0.997576</td>\n",
       "      <td>None</td>\n",
       "      <td>00:10</td>\n",
       "    </tr>\n",
       "    <tr>\n",
       "      <td>53</td>\n",
       "      <td>0.976921</td>\n",
       "      <td>None</td>\n",
       "      <td>00:10</td>\n",
       "    </tr>\n",
       "    <tr>\n",
       "      <td>54</td>\n",
       "      <td>0.956086</td>\n",
       "      <td>None</td>\n",
       "      <td>00:10</td>\n",
       "    </tr>\n",
       "    <tr>\n",
       "      <td>55</td>\n",
       "      <td>0.936446</td>\n",
       "      <td>None</td>\n",
       "      <td>00:10</td>\n",
       "    </tr>\n",
       "    <tr>\n",
       "      <td>56</td>\n",
       "      <td>0.917717</td>\n",
       "      <td>None</td>\n",
       "      <td>00:10</td>\n",
       "    </tr>\n",
       "    <tr>\n",
       "      <td>57</td>\n",
       "      <td>0.899041</td>\n",
       "      <td>None</td>\n",
       "      <td>00:10</td>\n",
       "    </tr>\n",
       "    <tr>\n",
       "      <td>58</td>\n",
       "      <td>0.880910</td>\n",
       "      <td>None</td>\n",
       "      <td>00:10</td>\n",
       "    </tr>\n",
       "    <tr>\n",
       "      <td>59</td>\n",
       "      <td>0.862721</td>\n",
       "      <td>None</td>\n",
       "      <td>00:10</td>\n",
       "    </tr>\n",
       "    <tr>\n",
       "      <td>60</td>\n",
       "      <td>0.844015</td>\n",
       "      <td>None</td>\n",
       "      <td>00:10</td>\n",
       "    </tr>\n",
       "    <tr>\n",
       "      <td>61</td>\n",
       "      <td>0.828155</td>\n",
       "      <td>None</td>\n",
       "      <td>00:10</td>\n",
       "    </tr>\n",
       "    <tr>\n",
       "      <td>62</td>\n",
       "      <td>0.812719</td>\n",
       "      <td>None</td>\n",
       "      <td>00:10</td>\n",
       "    </tr>\n",
       "    <tr>\n",
       "      <td>63</td>\n",
       "      <td>0.797472</td>\n",
       "      <td>None</td>\n",
       "      <td>00:10</td>\n",
       "    </tr>\n",
       "    <tr>\n",
       "      <td>64</td>\n",
       "      <td>0.783071</td>\n",
       "      <td>None</td>\n",
       "      <td>00:10</td>\n",
       "    </tr>\n",
       "    <tr>\n",
       "      <td>65</td>\n",
       "      <td>0.769556</td>\n",
       "      <td>None</td>\n",
       "      <td>00:10</td>\n",
       "    </tr>\n",
       "    <tr>\n",
       "      <td>66</td>\n",
       "      <td>0.755334</td>\n",
       "      <td>None</td>\n",
       "      <td>00:10</td>\n",
       "    </tr>\n",
       "    <tr>\n",
       "      <td>67</td>\n",
       "      <td>0.742516</td>\n",
       "      <td>None</td>\n",
       "      <td>00:10</td>\n",
       "    </tr>\n",
       "    <tr>\n",
       "      <td>68</td>\n",
       "      <td>0.729470</td>\n",
       "      <td>None</td>\n",
       "      <td>00:10</td>\n",
       "    </tr>\n",
       "    <tr>\n",
       "      <td>69</td>\n",
       "      <td>0.719807</td>\n",
       "      <td>None</td>\n",
       "      <td>00:10</td>\n",
       "    </tr>\n",
       "    <tr>\n",
       "      <td>70</td>\n",
       "      <td>0.707666</td>\n",
       "      <td>None</td>\n",
       "      <td>00:10</td>\n",
       "    </tr>\n",
       "    <tr>\n",
       "      <td>71</td>\n",
       "      <td>0.697987</td>\n",
       "      <td>None</td>\n",
       "      <td>00:10</td>\n",
       "    </tr>\n",
       "    <tr>\n",
       "      <td>72</td>\n",
       "      <td>0.687649</td>\n",
       "      <td>None</td>\n",
       "      <td>00:10</td>\n",
       "    </tr>\n",
       "    <tr>\n",
       "      <td>73</td>\n",
       "      <td>0.675826</td>\n",
       "      <td>None</td>\n",
       "      <td>00:10</td>\n",
       "    </tr>\n",
       "    <tr>\n",
       "      <td>74</td>\n",
       "      <td>0.666926</td>\n",
       "      <td>None</td>\n",
       "      <td>00:10</td>\n",
       "    </tr>\n",
       "    <tr>\n",
       "      <td>75</td>\n",
       "      <td>0.657704</td>\n",
       "      <td>None</td>\n",
       "      <td>00:10</td>\n",
       "    </tr>\n",
       "    <tr>\n",
       "      <td>76</td>\n",
       "      <td>0.648814</td>\n",
       "      <td>None</td>\n",
       "      <td>00:10</td>\n",
       "    </tr>\n",
       "    <tr>\n",
       "      <td>77</td>\n",
       "      <td>0.640211</td>\n",
       "      <td>None</td>\n",
       "      <td>00:10</td>\n",
       "    </tr>\n",
       "    <tr>\n",
       "      <td>78</td>\n",
       "      <td>0.633288</td>\n",
       "      <td>None</td>\n",
       "      <td>00:10</td>\n",
       "    </tr>\n",
       "    <tr>\n",
       "      <td>79</td>\n",
       "      <td>0.625470</td>\n",
       "      <td>None</td>\n",
       "      <td>00:10</td>\n",
       "    </tr>\n",
       "    <tr>\n",
       "      <td>80</td>\n",
       "      <td>0.617117</td>\n",
       "      <td>None</td>\n",
       "      <td>00:10</td>\n",
       "    </tr>\n",
       "    <tr>\n",
       "      <td>81</td>\n",
       "      <td>0.609131</td>\n",
       "      <td>None</td>\n",
       "      <td>00:10</td>\n",
       "    </tr>\n",
       "    <tr>\n",
       "      <td>82</td>\n",
       "      <td>0.603800</td>\n",
       "      <td>None</td>\n",
       "      <td>00:10</td>\n",
       "    </tr>\n",
       "    <tr>\n",
       "      <td>83</td>\n",
       "      <td>0.596508</td>\n",
       "      <td>None</td>\n",
       "      <td>00:10</td>\n",
       "    </tr>\n",
       "    <tr>\n",
       "      <td>84</td>\n",
       "      <td>0.592238</td>\n",
       "      <td>None</td>\n",
       "      <td>00:10</td>\n",
       "    </tr>\n",
       "    <tr>\n",
       "      <td>85</td>\n",
       "      <td>0.585604</td>\n",
       "      <td>None</td>\n",
       "      <td>00:10</td>\n",
       "    </tr>\n",
       "    <tr>\n",
       "      <td>86</td>\n",
       "      <td>0.579585</td>\n",
       "      <td>None</td>\n",
       "      <td>00:10</td>\n",
       "    </tr>\n",
       "    <tr>\n",
       "      <td>87</td>\n",
       "      <td>0.574960</td>\n",
       "      <td>None</td>\n",
       "      <td>00:10</td>\n",
       "    </tr>\n",
       "    <tr>\n",
       "      <td>88</td>\n",
       "      <td>0.569906</td>\n",
       "      <td>None</td>\n",
       "      <td>00:10</td>\n",
       "    </tr>\n",
       "    <tr>\n",
       "      <td>89</td>\n",
       "      <td>0.565836</td>\n",
       "      <td>None</td>\n",
       "      <td>00:10</td>\n",
       "    </tr>\n",
       "    <tr>\n",
       "      <td>90</td>\n",
       "      <td>0.561620</td>\n",
       "      <td>None</td>\n",
       "      <td>00:10</td>\n",
       "    </tr>\n",
       "    <tr>\n",
       "      <td>91</td>\n",
       "      <td>0.557717</td>\n",
       "      <td>None</td>\n",
       "      <td>00:10</td>\n",
       "    </tr>\n",
       "    <tr>\n",
       "      <td>92</td>\n",
       "      <td>0.555219</td>\n",
       "      <td>None</td>\n",
       "      <td>00:10</td>\n",
       "    </tr>\n",
       "    <tr>\n",
       "      <td>93</td>\n",
       "      <td>0.552747</td>\n",
       "      <td>None</td>\n",
       "      <td>00:10</td>\n",
       "    </tr>\n",
       "    <tr>\n",
       "      <td>94</td>\n",
       "      <td>0.550309</td>\n",
       "      <td>None</td>\n",
       "      <td>00:10</td>\n",
       "    </tr>\n",
       "    <tr>\n",
       "      <td>95</td>\n",
       "      <td>0.547639</td>\n",
       "      <td>None</td>\n",
       "      <td>00:10</td>\n",
       "    </tr>\n",
       "    <tr>\n",
       "      <td>96</td>\n",
       "      <td>0.544183</td>\n",
       "      <td>None</td>\n",
       "      <td>00:10</td>\n",
       "    </tr>\n",
       "    <tr>\n",
       "      <td>97</td>\n",
       "      <td>0.541255</td>\n",
       "      <td>None</td>\n",
       "      <td>00:10</td>\n",
       "    </tr>\n",
       "    <tr>\n",
       "      <td>98</td>\n",
       "      <td>0.538740</td>\n",
       "      <td>None</td>\n",
       "      <td>00:10</td>\n",
       "    </tr>\n",
       "    <tr>\n",
       "      <td>99</td>\n",
       "      <td>0.537343</td>\n",
       "      <td>None</td>\n",
       "      <td>00:10</td>\n",
       "    </tr>\n",
       "  </tbody>\n",
       "</table>"
      ],
      "text/plain": [
       "<IPython.core.display.HTML object>"
      ]
     },
     "metadata": {},
     "output_type": "display_data"
    },
    {
     "name": "stderr",
     "output_type": "stream",
     "text": [
      "/home/morgan/anaconda3/envs/fastai2_me/lib/python3.7/site-packages/fastprogress/fastprogress.py:74: UserWarning: Your generator is empty.\n",
      "  warn(\"Your generator is empty.\")\n"
     ]
    }
   ],
   "source": [
    "# FP16 NATIVE\n",
    "learn.fit_one_cycle(100, 6e-4, div_final=10)    "
   ]
  },
  {
   "cell_type": "markdown",
   "metadata": {},
   "source": [
    "Note there is no validation loss or validation perplexity as we we didn't specify a validation set (as per Karpathy's notebook)"
   ]
  },
  {
   "cell_type": "code",
   "execution_count": 22,
   "metadata": {},
   "outputs": [
    {
     "data": {
      "image/png": "[encoded data removed]",
      "text/plain": [
       "<Figure size 432x288 with 1 Axes>"
      ]
     },
     "metadata": {
      "needs_background": "light"
     },
     "output_type": "display_data"
    }
   ],
   "source": [
    "learn.recorder.plot_loss()"
   ]
  },
  {
   "cell_type": "code",
   "execution_count": 23,
   "metadata": {},
   "outputs": [
    {
     "data": {
      "image/png": "[encoded data removed]",
      "text/plain": [
       "<Figure size 864x288 with 2 Axes>"
      ]
     },
     "metadata": {
      "needs_background": "light"
     },
     "output_type": "display_data"
    }
   ],
   "source": [
    "learn.recorder.plot_sched()"
   ]
  },
  {
   "cell_type": "markdown",
   "metadata": {},
   "source": [
    "And now lets generate some Shakespeare!"
   ]
  },
  {
   "cell_type": "code",
   "execution_count": 19,
   "metadata": {},
   "outputs": [
    {
     "name": "stdout",
     "output_type": "stream",
     "text": [
      "O God, O God! if my deping  power.\n",
      "\n",
      "RIVERS:\n",
      "Come, Grey, come, Vaughan, let us all embrace:\n",
      "A to the beastless dearth\n",
      "That ever enter'd in a drowsy head,\n",
      "Have I lu die with my lords o' the field? sweet flower now,\n",
      "Lest that thy love prove likewise variable.\n",
      "\n",
      "ROMEO:\n",
      "What shall I swear by? I long as I shall shake, them thus:\n",
      "Give me some breath, some little pause, my lord\n",
      "Before I positively herein:\n",
      "I will resolve your grace immediately.\n",
      "\n",
      "CATESBY:\n",
      "\n",
      "KING RICHARD III:\n",
      "Should dying men flatter with those that live?\n",
      "\n",
      "JOHN OF GAUNT:\n",
      "What, talking with a priest, lord chamberlain?\n",
      "Your friends at Pomfret, they do need the priest;\n",
      "You must hear me, are you mad?\n",
      "\n",
      "POMPEY:\n",
      "Proof?\n",
      "\n",
      "ABHORSON:\n",
      "Every true: all the lord protector of the king,\n",
      "With powerful policy strengthen themselves,\n",
      "And trust not simple Henry nor his oaths.\n",
      "\n",
      "MONTAGUE:\n",
      "Brother, I go; I'll win it out of doors.\n",
      "\n",
      "ANGELO:\n",
      "Now, what's the matter. Provost?\n",
      "\n",
      "Provost:\n",
      "Is it your will Claudio?\n",
      "\n",
      "ISABELLA:\n",
      "I am a woeful suitor to your honour!\n",
      "\n",
      "LUCIO:\n",
      "\n",
      "ISABELLA:\n",
      "Must he needs die?\n",
      "\n",
      "CLARENCE:\n",
      "That's he in his great affairs; but I will attend you awhile.\n",
      "\n",
      "DUKE VINCENTIO:\n",
      "\n",
      "Provost:\n",
      "I told you. Lord Angelo, belike thinking me remiss\n",
      "in mine office, awakens me with this unwonted\n",
      "puttting-on; methinks strangely, for he hath not used it before.\n",
      "\n",
      "DUKE VINCENTIO:\n",
      "Peace be with you!\n",
      "He who the sword of heaven will bear\n",
      "Should be as holy as severe;\n",
      "Pattern in her reputation through the world,\n",
      "Is now leased out, I die pronouncing it,\n",
      "Like to a tenement or pelting farm:\n",
      "England, bound in with the true shepherd's shame.\n",
      "\n",
      "DUKE OF AUMERLE:\n",
      "To see, madam, go comfort, good father; if\n",
      "not, he's not meet her.\n",
      "\n",
      "BRUTUS:\n",
      "Wherein our companions, no replying, yielded\n",
      "To the death--all the voices the storm,\n",
      "Which we have noted in your brother dubb'd them gentlewomen.\n",
      "Are mighty gossips in this monarchy.\n",
      "\n",
      "BRAKENBURY:\n",
      "I beseech your graces both to pardon me;\n",
      "His majesty hath straitly given in charge\n",
      "That no man shall have private conference,\n",
      "Of what degree soever, wit\n"
     ]
    }
   ],
   "source": [
    "from minGPT.mingpt.utils import sample\n",
    "\n",
    "context = \"O God, O God!\"\n",
    "x = torch.tensor([dls.char_transform.stoi[s] for s in context], dtype=torch.long)[None,...].to(dls.device)\n",
    "y = sample(model, x, 2000, temperature=0.9, sample=True, top_k=5)[0]\n",
    "completion = ''.join([dls.char_transform.itos[int(i)] for i in y])\n",
    "print(completion)"
   ]
  }
 ],
 "metadata": {
  "kernelspec": {
   "display_name": "Python 3",
   "language": "python",
   "name": "python3"
  },
  "language_info": {
   "codemirror_mode": {
    "name": "ipython",
    "version": 3
   },
   "file_extension": ".py",
   "mimetype": "text/x-python",
   "name": "python",
   "nbconvert_exporter": "python",
   "pygments_lexer": "ipython3",
   "version": "3.7.6"
  }
 },
 "nbformat": 4,
 "nbformat_minor": 2
}
